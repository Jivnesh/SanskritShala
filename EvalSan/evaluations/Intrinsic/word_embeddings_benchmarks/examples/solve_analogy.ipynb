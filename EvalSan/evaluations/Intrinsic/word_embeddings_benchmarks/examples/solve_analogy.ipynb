{
 "cells": [
  {
   "cell_type": "code",
   "execution_count": 1,
   "metadata": {
    "collapsed": true
   },
   "outputs": [],
   "source": [
    "import logging\n",
    "from web.datasets.analogy import fetch_google_analogy\n",
    "from web.embeddings import fetch_SG_GoogleNews"
   ]
  },
  {
   "cell_type": "code",
   "execution_count": 2,
   "metadata": {
    "collapsed": true
   },
   "outputs": [],
   "source": [
    "# Configure logging\n",
    "logging.basicConfig(format='%(asctime)s %(levelname)s:%(message)s', level=logging.DEBUG, datefmt='%I:%M:%S')"
   ]
  },
  {
   "cell_type": "code",
   "execution_count": 3,
   "metadata": {},
   "outputs": [
    {
     "name": "stderr",
     "output_type": "stream",
     "text": [
      "05:53:11 INFO:loading projection weights from /home/pocha/web_data/embeddings/GoogleNews-vectors-negative300.bin.gz\n",
      "05:53:11 INFO:Loading #3000000 words with 300 dim\n"
     ]
    },
    {
     "name": "stdout",
     "output_type": "stream",
     "text": [
      "File already downloaded, skipping\n"
     ]
    },
    {
     "name": "stderr",
     "output_type": "stream",
     "text": [
      "05:55:25 INFO:Tranformed 3000000 into 2665071 words\n"
     ]
    }
   ],
   "source": [
    "# Fetch skip-gram trained on GoogleNews corpus and clean it slightly\n",
    "w = fetch_SG_GoogleNews(lower=True, clean_words=True)\n",
    "\n",
    "# Fetch analogy dataset\n",
    "data = fetch_google_analogy()"
   ]
  },
  {
   "cell_type": "code",
   "execution_count": 4,
   "metadata": {},
   "outputs": [
    {
     "name": "stdout",
     "output_type": "stream",
     "text": [
      "gram3-comparative\n",
      "gram8-plural\n",
      "capital-common-countries\n",
      "city-in-state\n",
      "family\n",
      "gram9-plural-verbs\n",
      "gram2-opposite\n",
      "currency\n",
      "gram4-superlative\n",
      "gram6-nationality-adjective\n",
      "gram7-past-tense\n",
      "gram5-present-participle\n",
      "capital-world\n",
      "gram1-adjective-to-adverb\n"
     ]
    }
   ],
   "source": [
    "for cat in (set(data.category)):\n",
    "    print(cat)"
   ]
  },
  {
   "cell_type": "code",
   "execution_count": 5,
   "metadata": {},
   "outputs": [
    {
     "name": "stdout",
     "output_type": "stream",
     "text": [
      "Question: bangkok is to thailand as havana is to ?\n",
      "Answer: cuba\n",
      "Predicted: asi\n",
      "Question: baku is to azerbaijan as dushanbe is to ?\n",
      "Answer: tajikistan\n",
      "Predicted: tajikistan\n",
      "Question: rome is to italy as windhoek is to ?\n",
      "Answer: namibia\n",
      "Predicted: otjiwarongo\n",
      "Question: comfortable is to uncomfortable as clear is to ?\n",
      "Answer: unclear\n",
      "Predicted: abundantly_clear\n",
      "Question: slow is to slowing as describe is to ?\n",
      "Answer: describing\n",
      "Predicted: describing\n"
     ]
    }
   ],
   "source": [
    "# Pick a sample of data and calculate answers\n",
    "subset = [50, 1000, 4000, 10000, 14000]\n",
    "for id in subset:\n",
    "    w1, w2, w3 = data.X[id][0], data.X[id][1], data.X[id][2]\n",
    "    print(\"Question: {} is to {} as {} is to ?\".format(w1, w2, w3))\n",
    "    print(\"Answer: \" + data.y[id])\n",
    "    print(\"Predicted: \" + \" \".join(w.nearest_neighbors(w[w2] - w[w1] + w[w3], exclude=[w1, w2, w3])))"
   ]
  },
  {
   "cell_type": "code",
   "execution_count": null,
   "metadata": {
    "collapsed": true
   },
   "outputs": [],
   "source": []
  }
 ],
 "metadata": {
  "kernelspec": {
   "display_name": "Python [default]",
   "language": "python",
   "name": "python2"
  },
  "language_info": {
   "codemirror_mode": {
    "name": "ipython",
    "version": 2
   },
   "file_extension": ".py",
   "mimetype": "text/x-python",
   "name": "python",
   "nbconvert_exporter": "python",
   "pygments_lexer": "ipython2",
   "version": "2.7.13"
  }
 },
 "nbformat": 4,
 "nbformat_minor": 1
}
